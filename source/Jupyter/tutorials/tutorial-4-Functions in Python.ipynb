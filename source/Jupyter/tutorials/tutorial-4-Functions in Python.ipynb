{
 "cells": [
  {
   "cell_type": "markdown",
   "metadata": {},
   "source": [
    "## Functions in Python"
   ]
  },
  {
   "cell_type": "markdown",
   "metadata": {},
   "source": [
    "What you will learn here:  \n",
    "\n",
    "1. How to write simple functions in Python\n",
    "\n",
    "2. How to call functions\n",
    "\n",
    "3. How to pass variables and parameters to functions\n",
    "\n",
    "4. How to use `return` in functions\n",
    "\n",
    "5. How to integrate functions together"
   ]
  },
  {
   "cell_type": "markdown",
   "metadata": {},
   "source": [
    "These packages are necessary later on. Load all the packages in one place for consistency"
   ]
  },
  {
   "cell_type": "code",
   "execution_count": 1,
   "metadata": {
    "ExecuteTime": {
     "end_time": "2020-07-05T11:51:46.899178Z",
     "start_time": "2020-07-05T11:51:45.776897Z"
    }
   },
   "outputs": [],
   "source": [
    "import numpy as np\n",
    "import pandas as pd"
   ]
  },
  {
   "cell_type": "markdown",
   "metadata": {},
   "source": [
    "Let's say you want a function that simply prints `Hello World`, you define the function:"
   ]
  },
  {
   "cell_type": "code",
   "execution_count": 2,
   "metadata": {
    "ExecuteTime": {
     "end_time": "2020-07-05T11:51:58.954939Z",
     "start_time": "2020-07-05T11:51:58.948915Z"
    }
   },
   "outputs": [],
   "source": [
    "def your_printer():\n",
    "    print('Hello World')"
   ]
  },
  {
   "cell_type": "markdown",
   "metadata": {},
   "source": [
    "So it is very simple to define the function but when you run this cell nothing happens because the function has not been called. This is the handy part of functions in Python (or any other programming languages). You define a function once and then you can all it whenever you want. To call the function simply:"
   ]
  },
  {
   "cell_type": "code",
   "execution_count": 3,
   "metadata": {
    "ExecuteTime": {
     "end_time": "2020-07-05T11:52:15.353533Z",
     "start_time": "2020-07-05T11:52:15.345869Z"
    }
   },
   "outputs": [
    {
     "name": "stdout",
     "output_type": "stream",
     "text": [
      "Hello World\n"
     ]
    }
   ],
   "source": [
    "your_printer()"
   ]
  },
  {
   "cell_type": "markdown",
   "metadata": {},
   "source": [
    "Congrats! you just wrote and called the first function in Python.\n",
    "\n",
    "The application of functions goes beyond printing. You can pass variables into function and they do the job for you. For example, if you modify `your_printer` function to print what we pass to it:"
   ]
  },
  {
   "cell_type": "code",
   "execution_count": 4,
   "metadata": {
    "ExecuteTime": {
     "end_time": "2020-07-05T11:52:25.826457Z",
     "start_time": "2020-07-05T11:52:25.822134Z"
    }
   },
   "outputs": [],
   "source": [
    "def your_printer(your_word):\n",
    "    print(your_word)"
   ]
  },
  {
   "cell_type": "markdown",
   "metadata": {},
   "source": [
    "Now let's call this function:"
   ]
  },
  {
   "cell_type": "code",
   "execution_count": 5,
   "metadata": {
    "ExecuteTime": {
     "end_time": "2020-07-05T11:52:27.520564Z",
     "start_time": "2020-07-05T11:52:27.515996Z"
    }
   },
   "outputs": [
    {
     "name": "stdout",
     "output_type": "stream",
     "text": [
      "This is your word!\n"
     ]
    }
   ],
   "source": [
    "your_printer('This is your word!')"
   ]
  },
  {
   "cell_type": "markdown",
   "metadata": {},
   "source": [
    "You can call a function multiple times, saving you time and space in coding:"
   ]
  },
  {
   "cell_type": "code",
   "execution_count": 6,
   "metadata": {
    "ExecuteTime": {
     "end_time": "2020-07-05T11:52:32.626119Z",
     "start_time": "2020-07-05T11:52:32.621141Z"
    }
   },
   "outputs": [
    {
     "name": "stdout",
     "output_type": "stream",
     "text": [
      "first word\n",
      "second word\n",
      "third word\n"
     ]
    }
   ],
   "source": [
    "your_printer('first word')\n",
    "your_printer('second word')\n",
    "your_printer('third word')"
   ]
  },
  {
   "cell_type": "markdown",
   "metadata": {},
   "source": [
    "More commonly you pass a variable to a function, the function does some mathematical operations and returns the results for future use. In this case, you use `return` in the function. For example"
   ]
  },
  {
   "cell_type": "code",
   "execution_count": 8,
   "metadata": {
    "ExecuteTime": {
     "end_time": "2020-07-05T11:53:10.765654Z",
     "start_time": "2020-07-05T11:53:10.761462Z"
    }
   },
   "outputs": [],
   "source": [
    "def sum_two_number(number1,number2):\n",
    "    \n",
    "    return number1+number2"
   ]
  },
  {
   "cell_type": "markdown",
   "metadata": {},
   "source": [
    "This function, receives two number and returns the sum. You can use it as follows"
   ]
  },
  {
   "cell_type": "code",
   "execution_count": 9,
   "metadata": {
    "ExecuteTime": {
     "end_time": "2020-07-05T11:53:14.602775Z",
     "start_time": "2020-07-05T11:53:14.596291Z"
    }
   },
   "outputs": [
    {
     "name": "stdout",
     "output_type": "stream",
     "text": [
      "3\n"
     ]
    }
   ],
   "source": [
    "sum_numbers=sum_two_number(1,2)\n",
    "print(sum_numbers)"
   ]
  },
  {
   "cell_type": "markdown",
   "metadata": {},
   "source": [
    "You can use the result of the function to do other stuff. For example:"
   ]
  },
  {
   "cell_type": "code",
   "execution_count": 10,
   "metadata": {
    "ExecuteTime": {
     "end_time": "2020-07-05T11:53:23.671124Z",
     "start_time": "2020-07-05T11:53:23.666171Z"
    }
   },
   "outputs": [
    {
     "name": "stdout",
     "output_type": "stream",
     "text": [
      "7\n"
     ]
    }
   ],
   "source": [
    "print(sum_two_number(sum_numbers,4))"
   ]
  },
  {
   "cell_type": "markdown",
   "metadata": {},
   "source": [
    "Now a more complex example, using the following equations:\n",
    "\n",
    "$q_1=x^2+x$\n",
    "\n",
    "$q_2=\\sin(q_1)+\\frac{1}{q_1+1}$\n",
    "\n",
    "$q_3=q_2*q_1+x^3$\n",
    "\n",
    "$q_4=q_1+q_2+q_3+x$\n",
    "\n"
   ]
  },
  {
   "cell_type": "markdown",
   "metadata": {},
   "source": [
    "Given a value for $x$, you want to find the value of $q_4$. This is where functions come in handy. Let's implement this:"
   ]
  },
  {
   "cell_type": "code",
   "execution_count": 11,
   "metadata": {
    "ExecuteTime": {
     "end_time": "2020-07-05T11:54:07.806291Z",
     "start_time": "2020-07-05T11:54:07.797765Z"
    }
   },
   "outputs": [],
   "source": [
    "############################## q1\n",
    "\n",
    "def cal_q1(x):\n",
    "    \n",
    "    return x**2+x\n",
    "\n",
    "############################## q2\n",
    "\n",
    "def cal_q2(q1):\n",
    "    \n",
    "    return np.sin(q1)+1/(q1+1)\n",
    "\n",
    "############################## q3\n",
    "\n",
    "def cal_q3(q1,q2,x):\n",
    "\n",
    "    return q2*q1+x**3\n",
    "\n",
    "############################## q4\n",
    "\n",
    "def cal_q4(x):\n",
    "    \n",
    "    q1=cal_q1(x)\n",
    "    q2=cal_q2(q1)\n",
    "    q3=cal_q3(q1,q2,x)\n",
    "    \n",
    "    return q1+q2+q3+x\n",
    "    "
   ]
  },
  {
   "cell_type": "markdown",
   "metadata": {},
   "source": [
    "now we can calculate values of $q_4$ given any arbitrary value for $x$"
   ]
  },
  {
   "cell_type": "code",
   "execution_count": 12,
   "metadata": {
    "ExecuteTime": {
     "end_time": "2020-07-05T11:54:12.552580Z",
     "start_time": "2020-07-05T11:54:12.536619Z"
    }
   },
   "outputs": [
    {
     "data": {
      "text/plain": [
       "1758.5598148460792"
      ]
     },
     "execution_count": 12,
     "metadata": {},
     "output_type": "execute_result"
    }
   ],
   "source": [
    "cal_q4(12)"
   ]
  },
  {
   "cell_type": "code",
   "execution_count": 13,
   "metadata": {
    "ExecuteTime": {
     "end_time": "2020-07-05T11:54:14.217411Z",
     "start_time": "2020-07-05T11:54:14.210453Z"
    }
   },
   "outputs": [
    {
     "data": {
      "text/plain": [
       "7.727892280477045"
      ]
     },
     "execution_count": 13,
     "metadata": {},
     "output_type": "execute_result"
    }
   ],
   "source": [
    "cal_q4(1)"
   ]
  },
  {
   "cell_type": "code",
   "execution_count": 14,
   "metadata": {
    "ExecuteTime": {
     "end_time": "2020-07-05T11:54:17.391188Z",
     "start_time": "2020-07-05T11:54:17.384053Z"
    }
   },
   "outputs": [
    {
     "data": {
      "text/plain": [
       "130.3710196531213"
      ]
     },
     "execution_count": 14,
     "metadata": {},
     "output_type": "execute_result"
    }
   ],
   "source": [
    "cal_q4(5)"
   ]
  }
 ],
 "metadata": {
  "kernelspec": {
   "display_name": "Python 3",
   "language": "python",
   "name": "python3"
  },
  "language_info": {
   "codemirror_mode": {
    "name": "ipython",
    "version": 3
   },
   "file_extension": ".py",
   "mimetype": "text/x-python",
   "name": "python",
   "nbconvert_exporter": "python",
   "pygments_lexer": "ipython3",
   "version": "3.7.3"
  },
  "toc": {
   "base_numbering": 1,
   "nav_menu": {},
   "number_sections": true,
   "sideBar": true,
   "skip_h1_title": false,
   "title_cell": "Table of Contents",
   "title_sidebar": "Contents",
   "toc_cell": false,
   "toc_position": {},
   "toc_section_display": true,
   "toc_window_display": false
  }
 },
 "nbformat": 4,
 "nbformat_minor": 2
}
